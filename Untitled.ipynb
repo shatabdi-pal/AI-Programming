{
 "cells": [
  {
   "cell_type": "code",
   "execution_count": 2,
   "id": "79ffd4d5",
   "metadata": {},
   "outputs": [
    {
     "ename": "ModuleNotFoundError",
     "evalue": "No module named 'utils'",
     "output_type": "error",
     "traceback": [
      "\u001b[1;31m---------------------------------------------------------------------------\u001b[0m",
      "\u001b[1;31mModuleNotFoundError\u001b[0m                       Traceback (most recent call last)",
      "\u001b[1;32m<ipython-input-2-0d89baddfbb5>\u001b[0m in \u001b[0;36m<module>\u001b[1;34m\u001b[0m\n\u001b[0;32m      6\u001b[0m \u001b[1;32mfrom\u001b[0m \u001b[0mcollections\u001b[0m \u001b[1;32mimport\u001b[0m \u001b[0mnamedtuple\u001b[0m\u001b[1;33m\u001b[0m\u001b[1;33m\u001b[0m\u001b[0m\n\u001b[0;32m      7\u001b[0m \u001b[1;33m\u001b[0m\u001b[0m\n\u001b[1;32m----> 8\u001b[1;33m \u001b[1;32mimport\u001b[0m \u001b[0mutils\u001b[0m\u001b[1;33m\u001b[0m\u001b[1;33m\u001b[0m\u001b[0m\n\u001b[0m\u001b[0;32m      9\u001b[0m \u001b[1;32mfrom\u001b[0m \u001b[0mnpuzzle\u001b[0m \u001b[1;32mimport\u001b[0m \u001b[0mNPuzzleState\u001b[0m\u001b[1;33m\u001b[0m\u001b[1;33m\u001b[0m\u001b[0m\n",
      "\u001b[1;31mModuleNotFoundError\u001b[0m: No module named 'utils'"
     ]
    }
   ],
   "source": [
    "%matplotlib inline\n",
    "%reload_ext autoreload\n",
    "%autoreload 2\n",
    "\n",
    "import matplotlib.pyplot as plt\n",
    "from collections import namedtuple\n",
    "\n",
    "import utils\n",
    "from npuzzle import NPuzzleState"
   ]
  },
  {
   "cell_type": "code",
   "execution_count": null,
   "id": "d96f4d60",
   "metadata": {},
   "outputs": [],
   "source": [
    "start_state_tiles = [\n",
    "    2, 8, 3, \n",
    "    1, 6, 4, \n",
    "    7, 0, 5]\n",
    "\n",
    "goal_state_tiles = [\n",
    "    1, 2, 3, \n",
    "    8, 0, 4,\n",
    "    7, 6, 5]\n",
    "\n",
    "# define start state and goal state\n",
    "start_state = NPuzzleState(tiles=start_state_tiles)\n",
    "goal_state = NPuzzleState(tiles=goal_state_tiles)\n",
    "\n",
    "# plot the start state and the goal state\n",
    "fig, axes = plt.subplots(1, 2, figsize=(6, 3))\n",
    "start_state.plot(axes[0], 'Start')\n",
    "goal_state.plot(axes[1], 'Goal')\n",
    "plt.show()"
   ]
  },
  {
   "cell_type": "code",
   "execution_count": null,
   "id": "4302b14f",
   "metadata": {},
   "outputs": [],
   "source": [
    "def h1(state, goal):\n",
    "    ''' Number of misplaced tiles heuristic\n",
    "    '''\n",
    "    return sum([state.tiles.index(tile) != goal.tiles.index(tile) \n",
    "                for tile in range(1, state.N + 1)])\n",
    "\n",
    "\n",
    "\n",
    "def h2(state, goal):\n",
    "    ''' Sum of manhatan distance heuristic\n",
    "    '''\n",
    "    return sum([manhatan_distance(tile, state, goal)\n",
    "                for tile in range(1, state.N + 1)])"
   ]
  },
  {
   "cell_type": "code",
   "execution_count": null,
   "id": "073ca2f7",
   "metadata": {},
   "outputs": [],
   "source": [
    "print(f\"h1(start) = {h1(start_state, goal_state)}\")\n",
    "print(f\"h2(start) = {h2(start_state, goal_state)}\")"
   ]
  },
  {
   "cell_type": "code",
   "execution_count": null,
   "id": "901e9b9d",
   "metadata": {},
   "outputs": [],
   "source": [
    "Node = namedtuple('Node', 'state parent action cost')\n",
    "\n",
    "\n",
    "def greedy_search(start_state, goal_state, heuristic=h1):\n",
    "    \n",
    "    num_generated = 0\n",
    "    frontier = PriorityQueue()\n",
    "    reached = dict()  # a dictionary of (state, node)\n",
    "\n",
    "    node = Node(start_state, None, None, 0) \n",
    "    frontier.push(node, heuristic(start_state, goal_state))\n",
    "    reached[start_state] = node\n",
    "\n",
    "    while not frontier.is_empty():\n",
    "        # select a node\n",
    "        node = frontier.pop()\n",
    "        \n",
    "        # goal test\n",
    "        if node.state == goal_state:\n",
    "            return solution(node), num_generated\n",
    "        \n",
    "        # expand\n",
    "        for successor, action, step_cost in node.state.successors():\n",
    "            num_generated += 1\n",
    "            path_cost = node.cost + step_cost\n",
    "            \n",
    "            if successor not in reached or path_cost < reached[successor].cost:\n",
    "                child_node = Node(successor, node, action, path_cost)\n",
    "                reached[successor] = child_node\n",
    "                frontier.push(child_node, heuristic(successor, goal_state))\n",
    "        return None, num_generated  # no solution found"
   ]
  },
  {
   "cell_type": "code",
   "execution_count": null,
   "id": "c69781ef",
   "metadata": {},
   "outputs": [],
   "source": [
    "solution_path, N = greedy_search(start_state, goal_state, heuristic=h1)\n",
    "\n",
    "print(f\"Number of generated nodes: {N}\")\n",
    "show_solution(start_state, solution_path, ncols=6)"
   ]
  },
  {
   "cell_type": "code",
   "execution_count": null,
   "id": "1221a747",
   "metadata": {},
   "outputs": [],
   "source": [
    "solution_path, N = greedy_search(start_state, goal_state, heuristic=h2)\n",
    "\n",
    "print(f\"Number of generated nodes: {N}\")\n",
    "show_solution(start_state, solution_path, ncols=6)"
   ]
  },
  {
   "cell_type": "code",
   "execution_count": null,
   "id": "8b7ade6b",
   "metadata": {},
   "outputs": [],
   "source": []
  }
 ],
 "metadata": {
  "kernelspec": {
   "display_name": "Python 3",
   "language": "python",
   "name": "python3"
  },
  "language_info": {
   "codemirror_mode": {
    "name": "ipython",
    "version": 3
   },
   "file_extension": ".py",
   "mimetype": "text/x-python",
   "name": "python",
   "nbconvert_exporter": "python",
   "pygments_lexer": "ipython3",
   "version": "3.8.8"
  }
 },
 "nbformat": 4,
 "nbformat_minor": 5
}
