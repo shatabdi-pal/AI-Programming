{
 "cells": [
  {
   "cell_type": "code",
   "execution_count": 10,
   "id": "94f23114",
   "metadata": {},
   "outputs": [
    {
     "name": "stdout",
     "output_type": "stream",
     "text": [
      "Experiment Number:1\n",
      "Eta: 0.1 x: 0 y: 0\n",
      "Eta: 0.01 x: 0 y: 0\n",
      "Eta: 0.001 x: 0 y: 0\n",
      "Experiment Number:2\n",
      "Eta: 0.1 x: -4.0 y: -13.8787851754503\n",
      "Eta: 0.01 x: 0 y: 0\n",
      "Eta: 0.001 x: 0 y: 0\n",
      "Experiment Number:3\n",
      "Eta: 0.1 x: -4.0 y: -9.660287034594905\n",
      "Eta: 0.01 x: 0 y: 0\n",
      "Eta: 0.001 x: 0 y: 0\n"
     ]
    }
   ],
   "source": [
    "import sympy as sym\n",
    "import numpy as np\n",
    "\n",
    "\n",
    "#Given function to find global minimum\n",
    "def f(x, y):\n",
    "    return 127 + 40*x + 5*x*x - 12*y + y*y\n",
    "\n",
    "#Finding derivatives\n",
    "x, y = sym.symbols('x y')\n",
    "df_dx = sym.diff(f(x, y), x)\n",
    "df_dy = sym.diff(f(x,y), y)\n",
    "f_x = sym.lambdify(x, df_dx)\n",
    "f_y = sym.lambdify(y, df_dy)\n",
    "\n",
    "\n",
    "def derivative_f(a, b): \n",
    "     return np.array(f_x(a), f_y(b))\n",
    "\n",
    "                                   \n",
    "#Finding gradient decent for particular learning rate\n",
    "def gradient_decent(x_0, eta):\n",
    "    x_prev = x_0\n",
    "    for iteration in range(500):\n",
    "        x_new = x_prev - eta * derivative_f(x_prev[0], x_prev[1])\n",
    "        x_prev = x_new\n",
    "    return x_prev\n",
    "\n",
    "\n",
    "#To find global minimum\n",
    "def best_performance_report(eta):\n",
    "    value = [0, 0]   \n",
    "    for trail in range (10):\n",
    "        x_0 = np.random.uniform(-10, 10, 2)\n",
    "        global_minimum = gradient_decent(x_0, eta)\n",
    "        if ( f(global_minimum[0], global_minimum[1]) < f(value[0], value[1])):\n",
    "            global_minimum = value\n",
    "    return global_minimum\n",
    "\n",
    "\n",
    "#Experiment with 3 different value of learning rate\n",
    "for experiment in range(3):\n",
    "    print (f'Experiment Number:{experiment + 1}')\n",
    "    for eta in [0.1, .01, .001]:\n",
    "        X , Y = best_performance_report(eta)\n",
    "        print (\"Eta:\", eta, \"x:\", X ,\"y:\", Y)"
   ]
  },
  {
   "cell_type": "code",
   "execution_count": null,
   "id": "d3e615a2",
   "metadata": {},
   "outputs": [],
   "source": []
  },
  {
   "cell_type": "code",
   "execution_count": null,
   "id": "a08c5d0c",
   "metadata": {},
   "outputs": [],
   "source": []
  },
  {
   "cell_type": "code",
   "execution_count": null,
   "id": "673fb83d",
   "metadata": {},
   "outputs": [],
   "source": []
  }
 ],
 "metadata": {
  "kernelspec": {
   "display_name": "Python 3",
   "language": "python",
   "name": "python3"
  },
  "language_info": {
   "codemirror_mode": {
    "name": "ipython",
    "version": 3
   },
   "file_extension": ".py",
   "mimetype": "text/x-python",
   "name": "python",
   "nbconvert_exporter": "python",
   "pygments_lexer": "ipython3",
   "version": "3.8.8"
  }
 },
 "nbformat": 4,
 "nbformat_minor": 5
}
