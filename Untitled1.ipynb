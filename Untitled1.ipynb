{
 "cells": [
  {
   "cell_type": "code",
   "execution_count": 7,
   "id": "8bb8f49b",
   "metadata": {},
   "outputs": [
    {
     "name": "stdout",
     "output_type": "stream",
     "text": [
      "PM\n",
      "07\n",
      ":05:45PM\n",
      "19\n",
      "19:05:45PM\n"
     ]
    }
   ],
   "source": [
    "s = \"07:05:45PM\"\n",
    "print(s[-2:])\n",
    "print(s[:2])\n",
    "print(s[2:])\n",
    "print((int(s[:2])) + 12)\n",
    "print(str(((int(s[:2])) + 12)) + s[2:])"
   ]
  },
  {
   "cell_type": "code",
   "execution_count": 35,
   "id": "35182461",
   "metadata": {},
   "outputs": [],
   "source": [
    "def time_conversion(s):\n",
    "    if (s[-2:] ==\"PM\") and int(s[:2]) < 12:\n",
    "        return str((int(s[:2]) + 12)) + s[2:-2] \n",
    "    elif s[-2:] ==\"PM\":\n",
    "        return s[:-2]\n",
    "    elif (s[-2:] ==\"AM\") and (s[:2] == \"12\"):\n",
    "        return \"00\" + s[2:]\n",
    "    elif (s[-2:] ==\"AM\"):\n",
    "        return s[:-2]"
   ]
  },
  {
   "cell_type": "code",
   "execution_count": 36,
   "id": "1b0cf3b0",
   "metadata": {},
   "outputs": [
    {
     "name": "stdout",
     "output_type": "stream",
     "text": [
      "14:05:45\n"
     ]
    }
   ],
   "source": [
    "print(time_conversion(\"02:05:45PM\"))"
   ]
  },
  {
   "cell_type": "code",
   "execution_count": null,
   "id": "bdd24444",
   "metadata": {},
   "outputs": [],
   "source": []
  },
  {
   "cell_type": "code",
   "execution_count": null,
   "id": "13afcdf8",
   "metadata": {},
   "outputs": [],
   "source": []
  }
 ],
 "metadata": {
  "kernelspec": {
   "display_name": "Python 3",
   "language": "python",
   "name": "python3"
  },
  "language_info": {
   "codemirror_mode": {
    "name": "ipython",
    "version": 3
   },
   "file_extension": ".py",
   "mimetype": "text/x-python",
   "name": "python",
   "nbconvert_exporter": "python",
   "pygments_lexer": "ipython3",
   "version": "3.8.8"
  }
 },
 "nbformat": 4,
 "nbformat_minor": 5
}
